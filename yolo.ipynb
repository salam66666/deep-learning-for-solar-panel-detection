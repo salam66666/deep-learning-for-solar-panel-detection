{
 "cells": [
  {
   "cell_type": "code",
   "execution_count": null,
   "id": "9c176110-11f2-425a-b76a-62bf89ba8324",
   "metadata": {},
   "outputs": [],
   "source": [
    "import os\n",
    "import cv2\n",
    "import numpy as np\n",
    "from ultralytics import YOLO\n",
    "import matplotlib.pyplot as plt\n",
    "\n",
    "# 路径设置\n",
    "image_dir = r'E:\\CDUT\\English\\7 Term\\Project\\model\\archive\\dataset\\images'  # 替换为你的图像文件夹路径\n",
    "model_path = \"yolov8n.pt\"  # YOLOv8 的预训练模型路径，使用默认的 \"yolov8n.pt\"\n",
    "\n",
    "# 初始化 YOLOv8 模型\n",
    "model = YOLO(model_path)  # 加载预训练的 YOLOv8 模型\n",
    "\n",
    "# 检测函数\n",
    "def detect_and_visualize(image_dir, model):\n",
    "    for filename in os.listdir(image_dir):\n",
    "        if filename.endswith(\".jpg\") or filename.endswith(\".png\"):\n",
    "            # 加载图像\n",
    "            image_path = os.path.join(image_dir, filename)\n",
    "            img = cv2.imread(image_path)\n",
    "            img_rgb = cv2.cvtColor(img, cv2.COLOR_BGR2RGB)  # 转为 RGB 格式\n",
    "\n",
    "            # 使用 YOLO 模型进行目标检测\n",
    "            results = model(img_rgb)\n",
    "\n",
    "            # 可视化检测结果\n",
    "            result_img = results[0].plot()  # 绘制检测结果\n",
    "            plt.figure(figsize=(10, 10))\n",
    "            plt.imshow(result_img)\n",
    "            plt.title(f\"Detection Result - {filename}\")\n",
    "            plt.axis(\"off\")\n",
    "            plt.show()\n",
    "\n",
    "# 执行检测和可视化\n",
    "detect_and_visualize(image_dir, model)\n"
   ]
  }
 ],
 "metadata": {
  "kernelspec": {
   "display_name": "Python 3 (ipykernel)",
   "language": "python",
   "name": "python3"
  },
  "language_info": {
   "codemirror_mode": {
    "name": "ipython",
    "version": 3
   },
   "file_extension": ".py",
   "mimetype": "text/x-python",
   "name": "python",
   "nbconvert_exporter": "python",
   "pygments_lexer": "ipython3",
   "version": "3.12.4"
  }
 },
 "nbformat": 4,
 "nbformat_minor": 5
}
